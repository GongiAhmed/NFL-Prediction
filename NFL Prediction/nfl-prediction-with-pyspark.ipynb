{
 "cells": [
  {
   "cell_type": "code",
   "execution_count": 2,
   "metadata": {
    "execution": {
     "iopub.execute_input": "2024-09-02T12:16:15.952219Z",
     "iopub.status.busy": "2024-09-02T12:16:15.951689Z",
     "iopub.status.idle": "2024-09-02T12:17:09.566429Z",
     "shell.execute_reply": "2024-09-02T12:17:09.565266Z",
     "shell.execute_reply.started": "2024-09-02T12:16:15.952176Z"
    },
    "trusted": true
   },
   "outputs": [
    {
     "name": "stdout",
     "output_type": "stream",
     "text": [
      "Collecting pyspark\n",
      "  Downloading pyspark-3.5.2.tar.gz (317.3 MB)\n",
      "\u001b[2K     \u001b[90m━━━━━━━━━━━━━━━━━━━━━━━━━━━━━━━━━━━━━━━\u001b[0m \u001b[32m317.3/317.3 MB\u001b[0m \u001b[31m4.9 MB/s\u001b[0m eta \u001b[36m0:00:00\u001b[0m00:01\u001b[0m00:01\u001b[0m\n",
      "\u001b[?25h  Preparing metadata (setup.py) ... \u001b[?25ldone\n",
      "\u001b[?25hRequirement already satisfied: py4j==0.10.9.7 in /opt/conda/lib/python3.10/site-packages (from pyspark) (0.10.9.7)\n",
      "Building wheels for collected packages: pyspark\n",
      "  Building wheel for pyspark (setup.py) ... \u001b[?25ldone\n",
      "\u001b[?25h  Created wheel for pyspark: filename=pyspark-3.5.2-py2.py3-none-any.whl size=317812364 sha256=a861a367b56ccde8177bd3f57c3683a509b27f3245cec81cfb48336ff75938c3\n",
      "  Stored in directory: /root/.cache/pip/wheels/34/34/bd/03944534c44b677cd5859f248090daa9fb27b3c8f8e5f49574\n",
      "Successfully built pyspark\n",
      "Installing collected packages: pyspark\n",
      "Successfully installed pyspark-3.5.2\n"
     ]
    }
   ],
   "source": [
    "!pip install pyspark"
   ]
  },
  {
   "cell_type": "markdown",
   "metadata": {},
   "source": [
    "# Step 1: Set Up the Environment\n",
    "First, start by setting up a Spark session and loading the data."
   ]
  },
  {
   "cell_type": "code",
   "execution_count": 17,
   "metadata": {
    "execution": {
     "iopub.execute_input": "2024-09-02T12:24:35.976360Z",
     "iopub.status.busy": "2024-09-02T12:24:35.975592Z",
     "iopub.status.idle": "2024-09-02T12:24:36.253978Z",
     "shell.execute_reply": "2024-09-02T12:24:36.252623Z",
     "shell.execute_reply.started": "2024-09-02T12:24:35.976305Z"
    },
    "trusted": true
   },
   "outputs": [],
   "source": [
    "# Import SparkSession\n",
    "from pyspark.sql import SparkSession\n",
    "\n",
    "# Import required functions and classes\n",
    "from pyspark.sql.functions import *\n",
    "from pyspark.sql.types import *\n",
    "\n",
    "# Machine Learning libraries\n",
    "from pyspark.ml import Pipeline\n",
    "from pyspark.ml.feature import StringIndexer, OneHotEncoder, VectorAssembler, StandardScaler\n",
    "from pyspark.ml.regression import LinearRegression, RandomForestRegressor, GBTRegressor\n",
    "from pyspark.ml.evaluation import RegressionEvaluator\n",
    "from pyspark.ml.tuning import ParamGridBuilder, CrossValidator\n"
   ]
  },
  {
   "cell_type": "code",
   "execution_count": 3,
   "metadata": {
    "execution": {
     "iopub.execute_input": "2024-09-02T12:17:10.261192Z",
     "iopub.status.busy": "2024-09-02T12:17:10.260741Z",
     "iopub.status.idle": "2024-09-02T12:17:29.766328Z",
     "shell.execute_reply": "2024-09-02T12:17:29.765008Z",
     "shell.execute_reply.started": "2024-09-02T12:17:10.261151Z"
    },
    "trusted": true
   },
   "outputs": [
    {
     "name": "stderr",
     "output_type": "stream",
     "text": [
      "Setting default log level to \"WARN\".\n",
      "To adjust logging level use sc.setLogLevel(newLevel). For SparkR, use setLogLevel(newLevel).\n",
      "24/09/02 12:17:13 WARN NativeCodeLoader: Unable to load native-hadoop library for your platform... using builtin-java classes where applicable\n",
      "[Stage 1:>                                                          (0 + 4) / 4]\r"
     ]
    },
    {
     "name": "stdout",
     "output_type": "stream",
     "text": [
      "root\n",
      " |-- GameId: integer (nullable = true)\n",
      " |-- PlayId: long (nullable = true)\n",
      " |-- Team: string (nullable = true)\n",
      " |-- X: double (nullable = true)\n",
      " |-- Y: double (nullable = true)\n",
      " |-- S: double (nullable = true)\n",
      " |-- A: double (nullable = true)\n",
      " |-- Dis: double (nullable = true)\n",
      " |-- Orientation: double (nullable = true)\n",
      " |-- Dir: double (nullable = true)\n",
      " |-- NflId: integer (nullable = true)\n",
      " |-- DisplayName: string (nullable = true)\n",
      " |-- JerseyNumber: integer (nullable = true)\n",
      " |-- Season: integer (nullable = true)\n",
      " |-- YardLine: integer (nullable = true)\n",
      " |-- Quarter: integer (nullable = true)\n",
      " |-- GameClock: timestamp (nullable = true)\n",
      " |-- PossessionTeam: string (nullable = true)\n",
      " |-- Down: integer (nullable = true)\n",
      " |-- Distance: integer (nullable = true)\n",
      " |-- FieldPosition: string (nullable = true)\n",
      " |-- HomeScoreBeforePlay: integer (nullable = true)\n",
      " |-- VisitorScoreBeforePlay: integer (nullable = true)\n",
      " |-- NflIdRusher: integer (nullable = true)\n",
      " |-- OffenseFormation: string (nullable = true)\n",
      " |-- OffensePersonnel: string (nullable = true)\n",
      " |-- DefendersInTheBox: integer (nullable = true)\n",
      " |-- DefensePersonnel: string (nullable = true)\n",
      " |-- PlayDirection: string (nullable = true)\n",
      " |-- TimeHandoff: timestamp (nullable = true)\n",
      " |-- TimeSnap: timestamp (nullable = true)\n",
      " |-- Yards: integer (nullable = true)\n",
      " |-- PlayerHeight: string (nullable = true)\n",
      " |-- PlayerWeight: integer (nullable = true)\n",
      " |-- PlayerBirthDate: string (nullable = true)\n",
      " |-- PlayerCollegeName: string (nullable = true)\n",
      " |-- Position: string (nullable = true)\n",
      " |-- HomeTeamAbbr: string (nullable = true)\n",
      " |-- VisitorTeamAbbr: string (nullable = true)\n",
      " |-- Week: integer (nullable = true)\n",
      " |-- Stadium: string (nullable = true)\n",
      " |-- Location: string (nullable = true)\n",
      " |-- StadiumType: string (nullable = true)\n",
      " |-- Turf: string (nullable = true)\n",
      " |-- GameWeather: string (nullable = true)\n",
      " |-- Temperature: integer (nullable = true)\n",
      " |-- Humidity: integer (nullable = true)\n",
      " |-- WindSpeed: string (nullable = true)\n",
      " |-- WindDirection: string (nullable = true)\n",
      "\n"
     ]
    },
    {
     "name": "stderr",
     "output_type": "stream",
     "text": [
      "                                                                                \r"
     ]
    }
   ],
   "source": [
    "from pyspark.sql import SparkSession\n",
    "\n",
    "# Initialize Spark session\n",
    "spark = SparkSession.builder \\\n",
    "    .appName(\"NFL Yardage EDA\") \\\n",
    "    .getOrCreate()\n",
    "\n",
    "# Load the dataset\n",
    "df = spark.read.csv(\"/kaggle/input/nfl-big-data-bowl-2020/train.csv\", header=True, inferSchema=True)\n",
    "\n",
    "# Show the schema to understand the structure of the data\n",
    "df.printSchema()\n"
   ]
  },
  {
   "cell_type": "markdown",
   "metadata": {},
   "source": [
    "# Step 2: EDA"
   ]
  },
  {
   "cell_type": "code",
   "execution_count": 4,
   "metadata": {
    "execution": {
     "iopub.execute_input": "2024-09-02T12:17:49.048139Z",
     "iopub.status.busy": "2024-09-02T12:17:49.047356Z",
     "iopub.status.idle": "2024-09-02T12:17:50.795962Z",
     "shell.execute_reply": "2024-09-02T12:17:50.794949Z",
     "shell.execute_reply.started": "2024-09-02T12:17:49.048092Z"
    },
    "trusted": true
   },
   "outputs": [
    {
     "name": "stderr",
     "output_type": "stream",
     "text": [
      "[Stage 2:>                                                          (0 + 4) / 4]\r"
     ]
    },
    {
     "name": "stdout",
     "output_type": "stream",
     "text": [
      "Number of rows: 682154\n",
      "Number of columns: 49\n"
     ]
    },
    {
     "name": "stderr",
     "output_type": "stream",
     "text": [
      "                                                                                \r"
     ]
    }
   ],
   "source": [
    "print(f\"Number of rows: {df.count()}\")\n",
    "print(f\"Number of columns: {len(df.columns)}\")\n"
   ]
  },
  {
   "cell_type": "code",
   "execution_count": 5,
   "metadata": {
    "execution": {
     "iopub.execute_input": "2024-09-02T12:18:09.544982Z",
     "iopub.status.busy": "2024-09-02T12:18:09.544388Z",
     "iopub.status.idle": "2024-09-02T12:18:10.458381Z",
     "shell.execute_reply": "2024-09-02T12:18:10.457365Z",
     "shell.execute_reply.started": "2024-09-02T12:18:09.544911Z"
    },
    "trusted": true
   },
   "outputs": [
    {
     "name": "stderr",
     "output_type": "stream",
     "text": [
      "24/09/02 12:18:09 WARN SparkStringUtils: Truncated the string representation of a plan since it was too large. This behavior can be adjusted by setting 'spark.sql.debug.maxToStringFields'.\n"
     ]
    },
    {
     "name": "stdout",
     "output_type": "stream",
     "text": [
      "+----------+--------------+----+-----+-----+----+----+----+-----------+------+-------+---------------+------------+------+--------+-------+-------------------+--------------+----+--------+-------------+-------------------+----------------------+-----------+----------------+----------------+-----------------+----------------+-------------+-------------------+-------------------+-----+------------+------------+---------------+-----------------+--------+------------+---------------+----+----------------+--------------+-----------+----------+--------------+-----------+--------+---------+-------------+\n",
      "|    GameId|        PlayId|Team|    X|    Y|   S|   A| Dis|Orientation|   Dir|  NflId|    DisplayName|JerseyNumber|Season|YardLine|Quarter|          GameClock|PossessionTeam|Down|Distance|FieldPosition|HomeScoreBeforePlay|VisitorScoreBeforePlay|NflIdRusher|OffenseFormation|OffensePersonnel|DefendersInTheBox|DefensePersonnel|PlayDirection|        TimeHandoff|           TimeSnap|Yards|PlayerHeight|PlayerWeight|PlayerBirthDate|PlayerCollegeName|Position|HomeTeamAbbr|VisitorTeamAbbr|Week|         Stadium|      Location|StadiumType|      Turf|   GameWeather|Temperature|Humidity|WindSpeed|WindDirection|\n",
      "+----------+--------------+----+-----+-----+----+----+----+-----------+------+-------+---------------+------------+------+--------+-------+-------------------+--------------+----+--------+-------------+-------------------+----------------------+-----------+----------------+----------------+-----------------+----------------+-------------+-------------------+-------------------+-----+------------+------------+---------------+-----------------+--------+------------+---------------+----+----------------+--------------+-----------+----------+--------------+-----------+--------+---------+-------------+\n",
      "|2017090700|20170907000118|away|73.91|34.84|1.69|1.13| 0.4|      81.99|177.18| 496723|     Eric Berry|          29|  2017|      35|      1|2024-09-02 14:14:00|            NE|   3|       2|           NE|                  0|                     0|    2543773|         SHOTGUN|1 RB, 1 TE, 3 WR|                6|2 DL, 3 LB, 6 DB|         left|2017-09-08 00:44:06|2017-09-08 00:44:05|    8|         6-0|         212|     12/29/1988|        Tennessee|      SS|          NE|             KC|   1|Gillette Stadium|Foxborough, MA|    Outdoor|Field Turf|Clear and warm|         63|      77|        8|           SW|\n",
      "|2017090700|20170907000118|away|74.67|32.64|0.42|1.35|0.01|      27.61| 198.7|2495116|   Allen Bailey|          97|  2017|      35|      1|2024-09-02 14:14:00|            NE|   3|       2|           NE|                  0|                     0|    2543773|         SHOTGUN|1 RB, 1 TE, 3 WR|                6|2 DL, 3 LB, 6 DB|         left|2017-09-08 00:44:06|2017-09-08 00:44:05|    8|         6-3|         288|     03/25/1989|            Miami|      DE|          NE|             KC|   1|Gillette Stadium|Foxborough, MA|    Outdoor|Field Turf|Clear and warm|         63|      77|        8|           SW|\n",
      "|2017090700|20170907000118|away| 74.0| 33.2|1.22|0.59|0.31|       3.01|202.73|2495493| Justin Houston|          50|  2017|      35|      1|2024-09-02 14:14:00|            NE|   3|       2|           NE|                  0|                     0|    2543773|         SHOTGUN|1 RB, 1 TE, 3 WR|                6|2 DL, 3 LB, 6 DB|         left|2017-09-08 00:44:06|2017-09-08 00:44:05|    8|         6-3|         270|     01/21/1989|          Georgia|      DE|          NE|             KC|   1|Gillette Stadium|Foxborough, MA|    Outdoor|Field Turf|Clear and warm|         63|      77|        8|           SW|\n",
      "|2017090700|20170907000118|away|71.46| 27.7|0.42|0.54|0.02|     359.77|105.64|2506353|Derrick Johnson|          56|  2017|      35|      1|2024-09-02 14:14:00|            NE|   3|       2|           NE|                  0|                     0|    2543773|         SHOTGUN|1 RB, 1 TE, 3 WR|                6|2 DL, 3 LB, 6 DB|         left|2017-09-08 00:44:06|2017-09-08 00:44:05|    8|         6-3|         245|     11/22/1982|            Texas|     ILB|          NE|             KC|   1|Gillette Stadium|Foxborough, MA|    Outdoor|Field Turf|Clear and warm|         63|      77|        8|           SW|\n",
      "|2017090700|20170907000118|away|69.32|35.42|1.82|2.43|0.16|      12.63|164.31|2530794|     Ron Parker|          38|  2017|      35|      1|2024-09-02 14:14:00|            NE|   3|       2|           NE|                  0|                     0|    2543773|         SHOTGUN|1 RB, 1 TE, 3 WR|                6|2 DL, 3 LB, 6 DB|         left|2017-09-08 00:44:06|2017-09-08 00:44:05|    8|         6-0|         206|     08/17/1987|         Newberry|      FS|          NE|             KC|   1|Gillette Stadium|Foxborough, MA|    Outdoor|Field Turf|Clear and warm|         63|      77|        8|           SW|\n",
      "+----------+--------------+----+-----+-----+----+----+----+-----------+------+-------+---------------+------------+------+--------+-------+-------------------+--------------+----+--------+-------------+-------------------+----------------------+-----------+----------------+----------------+-----------------+----------------+-------------+-------------------+-------------------+-----+------------+------------+---------------+-----------------+--------+------------+---------------+----+----------------+--------------+-----------+----------+--------------+-----------+--------+---------+-------------+\n",
      "only showing top 5 rows\n",
      "\n"
     ]
    }
   ],
   "source": [
    "df.show(5)\n"
   ]
  },
  {
   "cell_type": "code",
   "execution_count": 6,
   "metadata": {
    "execution": {
     "iopub.execute_input": "2024-09-02T12:18:28.015887Z",
     "iopub.status.busy": "2024-09-02T12:18:28.015482Z",
     "iopub.status.idle": "2024-09-02T12:19:07.303158Z",
     "shell.execute_reply": "2024-09-02T12:19:07.302042Z",
     "shell.execute_reply.started": "2024-09-02T12:18:28.015852Z"
    },
    "trusted": true
   },
   "outputs": [
    {
     "name": "stderr",
     "output_type": "stream",
     "text": [
      "[Stage 8:>                                                          (0 + 1) / 1]\r"
     ]
    },
    {
     "name": "stdout",
     "output_type": "stream",
     "text": [
      "+-------+--------------------+-------------------+------+-----------------+------------------+------------------+------------------+-------------------+-----------------+------------------+-----------------+----------------+------------------+------------------+------------------+------------------+--------------+------------------+-----------------+-------------+-------------------+----------------------+------------------+----------------+--------------------+------------------+--------------------+-------------+-----------------+------------+------------------+---------------+-----------------+--------+------------+---------------+-----------------+---------------+-------------+-----------+-------------+------------------+------------------+-----------------+-----------------+-----------------+\n",
      "|summary|              GameId|             PlayId|  Team|                X|                 Y|                 S|                 A|                Dis|      Orientation|               Dir|            NflId|     DisplayName|      JerseyNumber|            Season|          YardLine|           Quarter|PossessionTeam|              Down|         Distance|FieldPosition|HomeScoreBeforePlay|VisitorScoreBeforePlay|       NflIdRusher|OffenseFormation|    OffensePersonnel| DefendersInTheBox|    DefensePersonnel|PlayDirection|            Yards|PlayerHeight|      PlayerWeight|PlayerBirthDate|PlayerCollegeName|Position|HomeTeamAbbr|VisitorTeamAbbr|             Week|        Stadium|     Location|StadiumType|         Turf|       GameWeather|       Temperature|         Humidity|        WindSpeed|    WindDirection|\n",
      "+-------+--------------------+-------------------+------+-----------------+------------------+------------------+------------------+-------------------+-----------------+------------------+-----------------+----------------+------------------+------------------+------------------+------------------+--------------+------------------+-----------------+-------------+-------------------+----------------------+------------------+----------------+--------------------+------------------+--------------------+-------------+-----------------+------------+------------------+---------------+-----------------+--------+------------+---------------+-----------------+---------------+-------------+-----------+-------------+------------------+------------------+-----------------+-----------------+-----------------+\n",
      "|  count|              682154|             682154|682154|           682154|            682154|            682154|            682154|             682154|           682131|            682126|           682154|          682154|            682154|            682154|            682154|            682154|        682154|            682154|           682154|       673552|             682154|                682154|            682154|          682066|              682154|            682132|              682154|       682154|           682154|      682154|            682154|         682154|           682154|  682154|      682154|         682154|           682154|         682154|       682154|     640464|       682154|            626780|            618508|           675994|           590282|           578336|\n",
      "|   mean|2.0179752158236527E9|2.01797521602641E13|  NULL|60.03686264391953|26.791455683027404| 2.634597906044672| 1.701738947510387| 0.2781932232311154|179.9967421800217|180.04062031061545|2369743.066070125|            NULL| 54.03479712792126| 2017.868932821621|28.337472183700456| 2.511336149901635|          NULL|1.5172702938046247|8.319153739478182|         NULL|  11.04798916373722|      9.76256974231625|2446078.8597735995|            NULL|                NULL| 6.910339934206283|                NULL|         NULL|4.227626019930983|        NULL|253.41462778199644|           NULL|             NULL|    NULL|        NULL|           NULL|8.401586738478407|           NULL|         NULL|       NULL|         NULL|              NULL| 62.01006615920893|54.74156279493605|7.500821917808219|7.237442922374429|\n",
      "| stddev|   784459.3166725585|7.844593202511911E9|  NULL|25.49931047215837| 7.192918777999385|1.4047728110752247|0.9913802162284764|0.14521824929762167|102.7945535922514|106.18949121241356|  605364.76015526|            NULL|28.358692597366137|0.7869712433165981|13.065654893048555|1.1410621871855389|          NULL|0.6765500368557111|3.818715538656566|         NULL| 10.095556005883052|      9.53294462510449|483328.72555466753|            NULL|                NULL|0.9850653654656276|                NULL|         NULL|6.449866467869011|        NULL| 48.46986867434506|           NULL|             NULL|    NULL|        NULL|           NULL|4.808791081876344|           NULL|         NULL|       NULL|         NULL|              NULL|17.071117181421727|25.14669267242992|4.390945848570662|3.894934385440769|\n",
      "|    min|          2017090700|     20170907000118|  away|             0.66|              1.85|               0.0|               0.0|                0.0|              0.0|               0.0|              222|A'Shawn Robinson|                 1|              2017|                 1|                 1|           ARZ|                 1|                1|          ARZ|                  0|                     0|               234|             ACE|    0 RB, 0 TE, 5 WR|                 2|0 DL, 4 LB, 6 DB,...|         left|              -15|        5-10|               153|     01/01/1985|Abilene Christian|       C|         ARI|            ARI|                1|   AT&T Stadium|Arlington, TX|       Bowl| A-Turf Titan|30% Chance of Rain|                 9|                0|                0|                1|\n",
      "|    max|          2019112500|     20191125003789|  home|           117.65|             56.45|              9.41|             14.71|               1.39|            360.0|             360.0|          2563364|      Ziggy Hood|                99|              2019|                50|                 5|           WAS|                 4|               40|          WAS|                 57|                    59|           2563327|         WILDCAT|7 OL, 2 RB, 1 TE,...|                11|    7 DL, 2 LB, 2 DB|        right|               99|         6-9|               380|     12/31/1996| Youngstown State|      WR|         WAS|            WAS|               17|Wembley Stadium|    Tampa, FL|     indoor|natural grass|             sUNNY|                97|              100|              SSW|                s|\n",
      "+-------+--------------------+-------------------+------+-----------------+------------------+------------------+------------------+-------------------+-----------------+------------------+-----------------+----------------+------------------+------------------+------------------+------------------+--------------+------------------+-----------------+-------------+-------------------+----------------------+------------------+----------------+--------------------+------------------+--------------------+-------------+-----------------+------------+------------------+---------------+-----------------+--------+------------+---------------+-----------------+---------------+-------------+-----------+-------------+------------------+------------------+-----------------+-----------------+-----------------+\n",
      "\n"
     ]
    },
    {
     "name": "stderr",
     "output_type": "stream",
     "text": [
      "                                                                                \r"
     ]
    }
   ],
   "source": [
    "df.describe().show()\n"
   ]
  },
  {
   "cell_type": "code",
   "execution_count": 7,
   "metadata": {
    "execution": {
     "iopub.execute_input": "2024-09-02T12:19:07.305351Z",
     "iopub.status.busy": "2024-09-02T12:19:07.304920Z",
     "iopub.status.idle": "2024-09-02T12:19:13.875870Z",
     "shell.execute_reply": "2024-09-02T12:19:13.874726Z",
     "shell.execute_reply.started": "2024-09-02T12:19:07.305304Z"
    },
    "trusted": true
   },
   "outputs": [
    {
     "name": "stderr",
     "output_type": "stream",
     "text": [
      "[Stage 9:==============>                                            (1 + 3) / 4]\r"
     ]
    },
    {
     "name": "stdout",
     "output_type": "stream",
     "text": [
      "+------+------+----+---+---+---+---+---+-----------+---+-----+-----------+------------+------+--------+-------+---------+--------------+----+--------+-------------+-------------------+----------------------+-----------+----------------+----------------+-----------------+----------------+-------------+-----------+--------+-----+------------+------------+---------------+-----------------+--------+------------+---------------+----+-------+--------+-----------+----+-----------+-----------+--------+---------+-------------+\n",
      "|GameId|PlayId|Team|  X|  Y|  S|  A|Dis|Orientation|Dir|NflId|DisplayName|JerseyNumber|Season|YardLine|Quarter|GameClock|PossessionTeam|Down|Distance|FieldPosition|HomeScoreBeforePlay|VisitorScoreBeforePlay|NflIdRusher|OffenseFormation|OffensePersonnel|DefendersInTheBox|DefensePersonnel|PlayDirection|TimeHandoff|TimeSnap|Yards|PlayerHeight|PlayerWeight|PlayerBirthDate|PlayerCollegeName|Position|HomeTeamAbbr|VisitorTeamAbbr|Week|Stadium|Location|StadiumType|Turf|GameWeather|Temperature|Humidity|WindSpeed|WindDirection|\n",
      "+------+------+----+---+---+---+---+---+-----------+---+-----+-----------+------------+------+--------+-------+---------+--------------+----+--------+-------------+-------------------+----------------------+-----------+----------------+----------------+-----------------+----------------+-------------+-----------+--------+-----+------------+------------+---------------+-----------------+--------+------------+---------------+----+-------+--------+-----------+----+-----------+-----------+--------+---------+-------------+\n",
      "|     0|     0|   0|  0|  0|  0|  0|  0|         23| 28|    0|          0|           0|     0|       0|      0|        0|             0|   0|       0|         8602|                  0|                     0|          0|              88|               0|               22|               0|            0|          0|       0|    0|           0|           0|              0|                0|       0|           0|              0|   0|      0|       0|      41690|   0|      55374|      63646|    6160|    91872|       103818|\n",
      "+------+------+----+---+---+---+---+---+-----------+---+-----+-----------+------------+------+--------+-------+---------+--------------+----+--------+-------------+-------------------+----------------------+-----------+----------------+----------------+-----------------+----------------+-------------+-----------+--------+-----+------------+------------+---------------+-----------------+--------+------------+---------------+----+-------+--------+-----------+----+-----------+-----------+--------+---------+-------------+\n",
      "\n"
     ]
    },
    {
     "name": "stderr",
     "output_type": "stream",
     "text": [
      "                                                                                \r"
     ]
    }
   ],
   "source": [
    "from pyspark.sql.functions import col, sum\n",
    "\n",
    "# Count missing values in each column\n",
    "missing_values = df.select([sum(col(c).isNull().cast(\"int\")).alias(c) for c in df.columns])\n",
    "missing_values.show()\n"
   ]
  },
  {
   "cell_type": "code",
   "execution_count": 8,
   "metadata": {
    "execution": {
     "iopub.execute_input": "2024-09-02T12:19:13.877459Z",
     "iopub.status.busy": "2024-09-02T12:19:13.877067Z",
     "iopub.status.idle": "2024-09-02T12:19:20.107435Z",
     "shell.execute_reply": "2024-09-02T12:19:20.105156Z",
     "shell.execute_reply.started": "2024-09-02T12:19:13.877416Z"
    },
    "trusted": true
   },
   "outputs": [
    {
     "name": "stderr",
     "output_type": "stream",
     "text": [
      "                                                                                \r"
     ]
    },
    {
     "name": "stdout",
     "output_type": "stream",
     "text": [
      "+----+\n",
      "|Team|\n",
      "+----+\n",
      "|away|\n",
      "|home|\n",
      "+----+\n",
      "\n"
     ]
    },
    {
     "name": "stderr",
     "output_type": "stream",
     "text": [
      "[Stage 15:===========================================>              (3 + 1) / 4]\r"
     ]
    },
    {
     "name": "stdout",
     "output_type": "stream",
     "text": [
      "+----------------+\n",
      "|OffenseFormation|\n",
      "+----------------+\n",
      "|          PISTOL|\n",
      "|           EMPTY|\n",
      "|         WILDCAT|\n",
      "|      SINGLEBACK|\n",
      "|          I_FORM|\n",
      "|           JUMBO|\n",
      "|         SHOTGUN|\n",
      "|             ACE|\n",
      "|            NULL|\n",
      "+----------------+\n",
      "\n"
     ]
    },
    {
     "name": "stderr",
     "output_type": "stream",
     "text": [
      "                                                                                \r"
     ]
    }
   ],
   "source": [
    "df.select(\"Team\").distinct().show()\n",
    "df.select(\"OffenseFormation\").distinct().show()\n"
   ]
  },
  {
   "cell_type": "code",
   "execution_count": 9,
   "metadata": {
    "execution": {
     "iopub.execute_input": "2024-09-02T12:19:33.216874Z",
     "iopub.status.busy": "2024-09-02T12:19:33.216443Z",
     "iopub.status.idle": "2024-09-02T12:19:36.945571Z",
     "shell.execute_reply": "2024-09-02T12:19:36.940406Z",
     "shell.execute_reply.started": "2024-09-02T12:19:33.216834Z"
    },
    "trusted": true
   },
   "outputs": [
    {
     "name": "stderr",
     "output_type": "stream",
     "text": [
      "                                                                                \r"
     ]
    },
    {
     "name": "stdout",
     "output_type": "stream",
     "text": [
      "+----+------+\n",
      "|Team| count|\n",
      "+----+------+\n",
      "|away|341077|\n",
      "|home|341077|\n",
      "+----+------+\n",
      "\n"
     ]
    },
    {
     "name": "stderr",
     "output_type": "stream",
     "text": [
      "[Stage 21:>                                                         (0 + 4) / 4]\r"
     ]
    },
    {
     "name": "stdout",
     "output_type": "stream",
     "text": [
      "+----------------+------+\n",
      "|OffenseFormation| count|\n",
      "+----------------+------+\n",
      "|          PISTOL| 21538|\n",
      "|            NULL|    88|\n",
      "|           EMPTY|   682|\n",
      "|         WILDCAT|  1694|\n",
      "|      SINGLEBACK|299728|\n",
      "|          I_FORM|136950|\n",
      "|           JUMBO| 14894|\n",
      "|         SHOTGUN|206558|\n",
      "|             ACE|    22|\n",
      "+----------------+------+\n",
      "\n"
     ]
    },
    {
     "name": "stderr",
     "output_type": "stream",
     "text": [
      "                                                                                \r"
     ]
    }
   ],
   "source": [
    "df.groupBy(\"Team\").count().show()\n",
    "df.groupBy(\"OffenseFormation\").count().show()\n"
   ]
  },
  {
   "cell_type": "code",
   "execution_count": 10,
   "metadata": {
    "execution": {
     "iopub.execute_input": "2024-09-02T12:19:52.015364Z",
     "iopub.status.busy": "2024-09-02T12:19:52.014177Z",
     "iopub.status.idle": "2024-09-02T12:19:58.761903Z",
     "shell.execute_reply": "2024-09-02T12:19:58.760901Z",
     "shell.execute_reply.started": "2024-09-02T12:19:52.015305Z"
    },
    "trusted": true
   },
   "outputs": [
    {
     "name": "stderr",
     "output_type": "stream",
     "text": [
      "                                                                                \r"
     ]
    },
    {
     "data": {
      "image/png": "[encoded data removed]",
      "text/plain": [
       "<Figure size 640x480 with 1 Axes>"
      ]
     },
     "metadata": {},
     "output_type": "display_data"
    }
   ],
   "source": [
    "import matplotlib.pyplot as plt\n",
    "\n",
    "# Collect the data for Yards column\n",
    "yards_data = df.select(\"Yards\").rdd.flatMap(lambda x: x).collect()\n",
    "\n",
    "# Plot the distribution\n",
    "plt.hist(yards_data, bins=30, edgecolor='black')\n",
    "plt.title(\"Distribution of Yards Gained\")\n",
    "plt.xlabel(\"Yards\")\n",
    "plt.ylabel(\"Frequency\")\n",
    "plt.show()\n"
   ]
  },
  {
   "cell_type": "code",
   "execution_count": 11,
   "metadata": {
    "execution": {
     "iopub.execute_input": "2024-09-02T12:20:14.590088Z",
     "iopub.status.busy": "2024-09-02T12:20:14.589661Z",
     "iopub.status.idle": "2024-09-02T12:20:17.033767Z",
     "shell.execute_reply": "2024-09-02T12:20:17.032695Z",
     "shell.execute_reply.started": "2024-09-02T12:20:14.590047Z"
    },
    "trusted": true
   },
   "outputs": [
    {
     "name": "stderr",
     "output_type": "stream",
     "text": [
      "[Stage 25:>                                                         (0 + 4) / 4]\r"
     ]
    },
    {
     "name": "stdout",
     "output_type": "stream",
     "text": [
      "+--------------------+------------------+--------------------+--------------------+\n",
      "|          Yards_vs_S|        Yards_vs_A|          Yards_vs_X|          Yards_vs_Y|\n",
      "+--------------------+------------------+--------------------+--------------------+\n",
      "|0.003393453794717...|0.0199700664506995|0.002226143526931104|-0.00187672549038...|\n",
      "+--------------------+------------------+--------------------+--------------------+\n",
      "\n"
     ]
    },
    {
     "name": "stderr",
     "output_type": "stream",
     "text": [
      "                                                                                \r"
     ]
    }
   ],
   "source": [
    "from pyspark.sql.functions import corr\n",
    "\n",
    "# Compute correlation between 'Yards' and other numerical features\n",
    "corr_df = df.select(\n",
    "    corr(\"Yards\", \"S\").alias(\"Yards_vs_S\"),\n",
    "    corr(\"Yards\", \"A\").alias(\"Yards_vs_A\"),\n",
    "    corr(\"Yards\", \"X\").alias(\"Yards_vs_X\"),\n",
    "    corr(\"Yards\", \"Y\").alias(\"Yards_vs_Y\")\n",
    ")\n",
    "\n",
    "corr_df.show()\n"
   ]
  },
  {
   "cell_type": "code",
   "execution_count": 12,
   "metadata": {
    "execution": {
     "iopub.execute_input": "2024-09-02T12:20:28.839429Z",
     "iopub.status.busy": "2024-09-02T12:20:28.839009Z",
     "iopub.status.idle": "2024-09-02T12:20:30.605352Z",
     "shell.execute_reply": "2024-09-02T12:20:30.604285Z",
     "shell.execute_reply.started": "2024-09-02T12:20:28.839390Z"
    },
    "trusted": true
   },
   "outputs": [
    {
     "name": "stderr",
     "output_type": "stream",
     "text": [
      "[Stage 28:>                                                         (0 + 4) / 4]\r"
     ]
    },
    {
     "name": "stdout",
     "output_type": "stream",
     "text": [
      "+--------------------+------------------+--------------------+--------------------+\n",
      "|          Yards_vs_S|        Yards_vs_A|          Yards_vs_X|          Yards_vs_Y|\n",
      "+--------------------+------------------+--------------------+--------------------+\n",
      "|0.003393453794717...|0.0199700664506995|0.002226143526931104|-0.00187672549038...|\n",
      "+--------------------+------------------+--------------------+--------------------+\n",
      "\n"
     ]
    },
    {
     "name": "stderr",
     "output_type": "stream",
     "text": [
      "                                                                                \r"
     ]
    }
   ],
   "source": [
    "from pyspark.sql.functions import corr\n",
    "\n",
    "# Compute correlation between 'Yards' and other numerical features\n",
    "corr_df = df.select(\n",
    "    corr(\"Yards\", \"S\").alias(\"Yards_vs_S\"),\n",
    "    corr(\"Yards\", \"A\").alias(\"Yards_vs_A\"),\n",
    "    corr(\"Yards\", \"X\").alias(\"Yards_vs_X\"),\n",
    "    corr(\"Yards\", \"Y\").alias(\"Yards_vs_Y\")\n",
    ")\n",
    "\n",
    "corr_df.show()\n"
   ]
  },
  {
   "cell_type": "code",
   "execution_count": 13,
   "metadata": {
    "execution": {
     "iopub.execute_input": "2024-09-02T12:20:53.404324Z",
     "iopub.status.busy": "2024-09-02T12:20:53.403296Z",
     "iopub.status.idle": "2024-09-02T12:20:56.058252Z",
     "shell.execute_reply": "2024-09-02T12:20:56.056973Z",
     "shell.execute_reply.started": "2024-09-02T12:20:53.404271Z"
    },
    "trusted": true
   },
   "outputs": [
    {
     "name": "stderr",
     "output_type": "stream",
     "text": [
      "                                                                                \r"
     ]
    },
    {
     "data": {
      "image/png": "[encoded data removed]",
      "text/plain": [
       "<Figure size 640x480 with 1 Axes>"
      ]
     },
     "metadata": {},
     "output_type": "display_data"
    }
   ],
   "source": [
    "speed_acceleration = df.select(\"S\", \"A\").sample(False, 0.1).toPandas()\n",
    "\n",
    "plt.scatter(speed_acceleration[\"S\"], speed_acceleration[\"A\"])\n",
    "plt.title(\"Speed vs Acceleration\")\n",
    "plt.xlabel(\"Speed (S)\")\n",
    "plt.ylabel(\"Acceleration (A)\")\n",
    "plt.show()\n"
   ]
  },
  {
   "cell_type": "code",
   "execution_count": 14,
   "metadata": {
    "execution": {
     "iopub.execute_input": "2024-09-02T12:21:04.031200Z",
     "iopub.status.busy": "2024-09-02T12:21:04.030650Z",
     "iopub.status.idle": "2024-09-02T12:21:08.152891Z",
     "shell.execute_reply": "2024-09-02T12:21:08.151830Z",
     "shell.execute_reply.started": "2024-09-02T12:21:04.031147Z"
    },
    "trusted": true
   },
   "outputs": [
    {
     "name": "stderr",
     "output_type": "stream",
     "text": [
      "[Stage 40:===========================================>              (3 + 1) / 4]\r"
     ]
    },
    {
     "name": "stdout",
     "output_type": "stream",
     "text": [
      "+----------------+------------------+------------------+------------------+------------------+\n",
      "|OffenseFormation|                 1|                 2|                 3|                 4|\n",
      "+----------------+------------------+------------------+------------------+------------------+\n",
      "|          PISTOL|  4.92991452991453|4.2727272727272725|3.8732394366197185|               1.5|\n",
      "|            NULL|               3.0|              NULL|              NULL|              NULL|\n",
      "|           EMPTY| 4.411764705882353|             5.625|               4.4|              -5.0|\n",
      "|         WILDCAT| 4.794117647058823|3.6538461538461537|             6.125|               4.0|\n",
      "|      SINGLEBACK| 4.306682577565632| 4.200902934537246|3.5497896213183733|1.6732673267326732|\n",
      "|          I_FORM| 4.309418210279155|  3.87772461456672|  3.30184331797235|2.8051948051948052|\n",
      "|           JUMBO|1.9142857142857144| 1.413265306122449|2.5419847328244276|               0.4|\n",
      "|         SHOTGUN| 4.388269918015556| 4.523499433748585| 4.706945765937203|3.2244897959183674|\n",
      "|             ACE|              NULL|               4.0|              NULL|              NULL|\n",
      "+----------------+------------------+------------------+------------------+------------------+\n",
      "\n"
     ]
    },
    {
     "name": "stderr",
     "output_type": "stream",
     "text": [
      "                                                                                \r"
     ]
    }
   ],
   "source": [
    "df.groupBy(\"OffenseFormation\").pivot(\"Down\").avg(\"Yards\").show()\n"
   ]
  },
  {
   "cell_type": "code",
   "execution_count": 15,
   "metadata": {
    "execution": {
     "iopub.execute_input": "2024-09-02T12:21:17.530769Z",
     "iopub.status.busy": "2024-09-02T12:21:17.529929Z",
     "iopub.status.idle": "2024-09-02T12:21:19.357354Z",
     "shell.execute_reply": "2024-09-02T12:21:19.356281Z",
     "shell.execute_reply.started": "2024-09-02T12:21:17.530726Z"
    },
    "trusted": true
   },
   "outputs": [
    {
     "name": "stderr",
     "output_type": "stream",
     "text": [
      "[Stage 46:>                                                         (0 + 4) / 4]\r"
     ]
    },
    {
     "name": "stdout",
     "output_type": "stream",
     "text": [
      "+--------------------+------------------+\n",
      "|         GameWeather|        avg(Yards)|\n",
      "+--------------------+------------------+\n",
      "|         Sunny Skies| 6.086956521739131|\n",
      "|Sunny, highs to u...|              5.56|\n",
      "|      Clear and warm|5.5576923076923075|\n",
      "|      Clear and cold|5.4655172413793105|\n",
      "|  30% Chance of Rain|5.4423076923076925|\n",
      "|Cloudy with showe...|5.2444444444444445|\n",
      "|     Clear and Sunny| 5.111111111111111|\n",
      "|      Clear and Cool| 4.957446808510638|\n",
      "|Cloudy, chance of...| 4.853658536585366|\n",
      "|       Mostly cloudy| 4.823717948717949|\n",
      "|Cloudy, fog start...|               4.8|\n",
      "|      Partly Clouidy|               4.8|\n",
      "|               sUNNY| 4.695652173913044|\n",
      "|        Cloudy, Rain|              4.64|\n",
      "|Cloudy, 50% chang...| 4.638297872340425|\n",
      "|        Party Cloudy| 4.594594594594595|\n",
      "|     Clear and sunny| 4.591836734693878|\n",
      "|      Sunny and cold| 4.488888888888889|\n",
      "|        Mostly Sunny| 4.487704918032787|\n",
      "|        Sunny, Windy| 4.472222222222222|\n",
      "+--------------------+------------------+\n",
      "only showing top 20 rows\n",
      "\n"
     ]
    },
    {
     "name": "stderr",
     "output_type": "stream",
     "text": [
      "                                                                                \r"
     ]
    }
   ],
   "source": [
    "df.groupBy(\"GameWeather\").avg(\"Yards\").orderBy(\"avg(Yards)\", ascending=False).show()\n"
   ]
  },
  {
   "cell_type": "code",
   "execution_count": 16,
   "metadata": {
    "execution": {
     "iopub.execute_input": "2024-09-02T12:21:32.293316Z",
     "iopub.status.busy": "2024-09-02T12:21:32.292860Z",
     "iopub.status.idle": "2024-09-02T12:21:33.823435Z",
     "shell.execute_reply": "2024-09-02T12:21:33.822288Z",
     "shell.execute_reply.started": "2024-09-02T12:21:32.293278Z"
    },
    "trusted": true
   },
   "outputs": [
    {
     "name": "stderr",
     "output_type": "stream",
     "text": [
      "[Stage 49:>                                                         (0 + 4) / 4]\r"
     ]
    },
    {
     "name": "stdout",
     "output_type": "stream",
     "text": [
      "+--------------------+------------------+\n",
      "|                Turf|        avg(Yards)|\n",
      "+--------------------+------------------+\n",
      "|UBU-Speed Series-...| 7.368421052631579|\n",
      "|Twenty-Four/Seven...| 4.808219178082192|\n",
      "|            SISGrass| 4.734299516908212|\n",
      "|Twenty Four/Seven...| 4.439688715953308|\n",
      "|UBU Speed Series-...| 4.392838609237156|\n",
      "|       FieldTurf 360| 4.334384858044164|\n",
      "|       Natural Grass| 4.328703703703703|\n",
      "|             Natural| 4.324324324324325|\n",
      "|        A-Turf Titan|4.2502369668246445|\n",
      "|UBU Sports Speed ...| 4.233933161953727|\n",
      "|        FieldTurf360| 4.204787234042553|\n",
      "|          Field Turf| 4.175162504276428|\n",
      "|               Grass| 4.175032302951993|\n",
      "|          Artificial| 4.152322924600153|\n",
      "|       Natural grass|4.1258907363420425|\n",
      "|           FieldTurf|   4.1012599160056|\n",
      "|      DD GrassMaster| 3.893732970027248|\n",
      "|           Artifical| 3.699059561128527|\n",
      "|       natural grass|3.3783783783783785|\n",
      "|      Naturall Grass| 3.358974358974359|\n",
      "+--------------------+------------------+\n",
      "only showing top 20 rows\n",
      "\n"
     ]
    },
    {
     "name": "stderr",
     "output_type": "stream",
     "text": [
      "                                                                                \r"
     ]
    }
   ],
   "source": [
    "df.groupBy(\"Turf\").avg(\"Yards\").orderBy(\"avg(Yards)\", ascending=False).show()\n"
   ]
  },
  {
   "cell_type": "markdown",
   "metadata": {},
   "source": [
    "# Step 3: Data Preparation\n",
    "    1. Handling Missing Values\n",
    "    Start by handling missing values in both numerical and categorical columns."
   ]
  },
  {
   "cell_type": "code",
   "execution_count": 20,
   "metadata": {
    "execution": {
     "iopub.execute_input": "2024-09-02T12:25:03.728002Z",
     "iopub.status.busy": "2024-09-02T12:25:03.727558Z",
     "iopub.status.idle": "2024-09-02T12:25:09.565426Z",
     "shell.execute_reply": "2024-09-02T12:25:09.564340Z",
     "shell.execute_reply.started": "2024-09-02T12:25:03.727953Z"
    },
    "trusted": true
   },
   "outputs": [
    {
     "name": "stderr",
     "output_type": "stream",
     "text": [
      "[Stage 52:=============================>                            (2 + 2) / 4]\r"
     ]
    },
    {
     "name": "stdout",
     "output_type": "stream",
     "text": [
      "+------+------+----+---+---+---+---+---+-----------+---+-----+-----------+------------+------+--------+-------+---------+--------------+----+--------+-------------+-------------------+----------------------+-----------+----------------+----------------+-----------------+----------------+-------------+-----------+--------+-----+------------+------------+---------------+-----------------+--------+------------+---------------+----+-------+--------+-----------+----+-----------+-----------+--------+---------+-------------+\n",
      "|GameId|PlayId|Team|  X|  Y|  S|  A|Dis|Orientation|Dir|NflId|DisplayName|JerseyNumber|Season|YardLine|Quarter|GameClock|PossessionTeam|Down|Distance|FieldPosition|HomeScoreBeforePlay|VisitorScoreBeforePlay|NflIdRusher|OffenseFormation|OffensePersonnel|DefendersInTheBox|DefensePersonnel|PlayDirection|TimeHandoff|TimeSnap|Yards|PlayerHeight|PlayerWeight|PlayerBirthDate|PlayerCollegeName|Position|HomeTeamAbbr|VisitorTeamAbbr|Week|Stadium|Location|StadiumType|Turf|GameWeather|Temperature|Humidity|WindSpeed|WindDirection|\n",
      "+------+------+----+---+---+---+---+---+-----------+---+-----+-----------+------------+------+--------+-------+---------+--------------+----+--------+-------------+-------------------+----------------------+-----------+----------------+----------------+-----------------+----------------+-------------+-----------+--------+-----+------------+------------+---------------+-----------------+--------+------------+---------------+----+-------+--------+-----------+----+-----------+-----------+--------+---------+-------------+\n",
      "|     0|     0|   0|  0|  0|  0|  0|  0|         23| 28|    0|          0|           0|     0|       0|      0|        0|             0|   0|       0|         8602|                  0|                     0|          0|              88|               0|               22|               0|            0|          0|       0|    0|           0|           0|              0|                0|       0|           0|              0|   0|      0|       0|      41690|   0|      55374|      63646|    6160|    91872|       103818|\n",
      "+------+------+----+---+---+---+---+---+-----------+---+-----+-----------+------------+------+--------+-------+---------+--------------+----+--------+-------------+-------------------+----------------------+-----------+----------------+----------------+-----------------+----------------+-------------+-----------+--------+-----+------------+------------+---------------+-----------------+--------+------------+---------------+----+-------+--------+-----------+----+-----------+-----------+--------+---------+-------------+\n",
      "\n"
     ]
    },
    {
     "name": "stderr",
     "output_type": "stream",
     "text": [
      "                                                                                \r"
     ]
    }
   ],
   "source": [
    "from pyspark.sql.functions import col, sum\n",
    "\n",
    "# Count missing values in each column\n",
    "missing_values = df.select([sum(col(c).isNull().cast(\"int\")).alias(c) for c in df.columns])\n",
    "missing_values.show()\n"
   ]
  },
  {
   "cell_type": "code",
   "execution_count": 23,
   "metadata": {
    "execution": {
     "iopub.execute_input": "2024-09-02T12:28:12.435820Z",
     "iopub.status.busy": "2024-09-02T12:28:12.435297Z",
     "iopub.status.idle": "2024-09-02T12:28:24.736989Z",
     "shell.execute_reply": "2024-09-02T12:28:24.735807Z",
     "shell.execute_reply.started": "2024-09-02T12:28:12.435779Z"
    },
    "trusted": true
   },
   "outputs": [
    {
     "name": "stderr",
     "output_type": "stream",
     "text": [
      "                                                                                \r"
     ]
    },
    {
     "name": "stdout",
     "output_type": "stream",
     "text": [
      "+------+------+----+---+---+---+---+---+-----------+---+-----+-----------+------------+------+--------+-------+---------+--------------+----+--------+-------------+-------------------+----------------------+-----------+----------------+----------------+-----------------+----------------+-------------+-----------+--------+-----+------------+------------+---------------+-----------------+--------+------------+---------------+----+-------+--------+-----------+----+-----------+-----------+--------+---------+-------------+\n",
      "|GameId|PlayId|Team|  X|  Y|  S|  A|Dis|Orientation|Dir|NflId|DisplayName|JerseyNumber|Season|YardLine|Quarter|GameClock|PossessionTeam|Down|Distance|FieldPosition|HomeScoreBeforePlay|VisitorScoreBeforePlay|NflIdRusher|OffenseFormation|OffensePersonnel|DefendersInTheBox|DefensePersonnel|PlayDirection|TimeHandoff|TimeSnap|Yards|PlayerHeight|PlayerWeight|PlayerBirthDate|PlayerCollegeName|Position|HomeTeamAbbr|VisitorTeamAbbr|Week|Stadium|Location|StadiumType|Turf|GameWeather|Temperature|Humidity|WindSpeed|WindDirection|\n",
      "+------+------+----+---+---+---+---+---+-----------+---+-----+-----------+------------+------+--------+-------+---------+--------------+----+--------+-------------+-------------------+----------------------+-----------+----------------+----------------+-----------------+----------------+-------------+-----------+--------+-----+------------+------------+---------------+-----------------+--------+------------+---------------+----+-------+--------+-----------+----+-----------+-----------+--------+---------+-------------+\n",
      "|     0|     0|   0|  0|  0|  0|  0|  0|         23| 28|    0|          0|           0|     0|       0|      0|        0|             0|   0|       0|         8602|                  0|                     0|          0|              88|               0|               22|               0|            0|          0|       0|    0|           0|           0|              0|                0|       0|           0|              0|   0|      0|       0|      41690|   0|      55374|      63646|    6160|    91872|       103818|\n",
      "+------+------+----+---+---+---+---+---+-----------+---+-----+-----------+------------+------+--------+-------+---------+--------------+----+--------+-------------+-------------------+----------------------+-----------+----------------+----------------+-----------------+----------------+-------------+-----------+--------+-----+------------+------------+---------------+-----------------+--------+------------+---------------+----+-------+--------+-----------+----+-----------+-----------+--------+---------+-------------+\n",
      "\n"
     ]
    },
    {
     "name": "stderr",
     "output_type": "stream",
     "text": [
      "                                                                                \r"
     ]
    }
   ],
   "source": [
    "# Display columns with missing values\n",
    "missing_values.show()\n",
    "# Fill missing numerical values with median\n",
    "from pyspark.sql.functions import expr\n",
    "from pyspark.sql.functions import col\n",
    "\n",
    "# Convert WindSpeed (and other similar columns) from StringType to FloatType\n",
    "df = df.withColumn(\"WindSpeed\", col(\"WindSpeed\").cast(\"float\"))\n",
    "\n",
    "# Now, proceed with calculating the median\n",
    "numerical_cols = ['DefendersInTheBox', 'Temperature', 'Humidity', 'WindSpeed']\n",
    "\n",
    "for col_name in numerical_cols:\n",
    "    median_val = df.approxQuantile(col_name, [0.5], 0.25)[0]\n",
    "    df = df.na.fill({col_name: median_val})\n",
    "\n",
    "\n",
    "# Fill missing categorical values with 'Unknown'\n",
    "categorical_cols = ['OffenseFormation', 'StadiumType', 'Turf', 'GameWeather']\n",
    "df = df.na.fill('Unknown', subset=categorical_cols)\n",
    "\n"
   ]
  },
  {
   "cell_type": "markdown",
   "metadata": {},
   "source": [
    "    2. Feature Engineering\n",
    "    Convert categorical features into numerical ones and assemble the features into a vector."
   ]
  },
  {
   "cell_type": "code",
   "execution_count": 24,
   "metadata": {
    "execution": {
     "iopub.execute_input": "2024-09-02T12:32:02.787224Z",
     "iopub.status.busy": "2024-09-02T12:32:02.786715Z",
     "iopub.status.idle": "2024-09-02T12:32:17.990088Z",
     "shell.execute_reply": "2024-09-02T12:32:17.988865Z",
     "shell.execute_reply.started": "2024-09-02T12:32:02.787182Z"
    },
    "trusted": true
   },
   "outputs": [
    {
     "name": "stderr",
     "output_type": "stream",
     "text": [
      "                                                                                \r"
     ]
    },
    {
     "name": "stdout",
     "output_type": "stream",
     "text": [
      "+--------------------+-----+\n",
      "|      scaledFeatures|Yards|\n",
      "+--------------------+-----+\n",
      "|[1.20304150726440...|    8|\n",
      "|[0.29898072961600...|    8|\n",
      "|[0.86846783364649...|    8|\n",
      "|[0.29898072961600...|    8|\n",
      "|[1.29558316166936...|    8|\n",
      "+--------------------+-----+\n",
      "only showing top 5 rows\n",
      "\n"
     ]
    }
   ],
   "source": [
    "from pyspark.ml.feature import StringIndexer, VectorAssembler, StandardScaler\n",
    "\n",
    "# Index categorical features\n",
    "indexers = [\n",
    "    StringIndexer(inputCol=\"Team\", outputCol=\"TeamIndexed\"),\n",
    "    StringIndexer(inputCol=\"OffenseFormation\", outputCol=\"OffenseFormationIndexed\"),\n",
    "    StringIndexer(inputCol=\"PlayDirection\", outputCol=\"PlayDirectionIndexed\"),\n",
    "    StringIndexer(inputCol=\"StadiumType\", outputCol=\"StadiumTypeIndexed\"),\n",
    "    StringIndexer(inputCol=\"GameWeather\", outputCol=\"GameWeatherIndexed\")\n",
    "]\n",
    "\n",
    "# Assemble the feature columns into a single vector\n",
    "assembler = VectorAssembler(\n",
    "    inputCols=[\"S\", \"A\", \"DefendersInTheBox\", \"Temperature\", \"Humidity\", \n",
    "               \"WindSpeed\", \"TeamIndexed\", \"OffenseFormationIndexed\", \n",
    "               \"PlayDirectionIndexed\", \"StadiumTypeIndexed\", \"GameWeatherIndexed\"],\n",
    "    outputCol=\"features\"\n",
    ")\n",
    "\n",
    "# Optional: Scale the features\n",
    "scaler = StandardScaler(inputCol=\"features\", outputCol=\"scaledFeatures\")\n",
    "\n",
    "# Create a pipeline for data preparation\n",
    "from pyspark.ml import Pipeline\n",
    "\n",
    "pipeline = Pipeline(stages=indexers + [assembler, scaler])\n",
    "model_pipeline = pipeline.fit(df)\n",
    "df_transformed = model_pipeline.transform(df)\n",
    "\n",
    "# Show transformed data\n",
    "df_transformed.select(\"scaledFeatures\", \"Yards\").show(5)\n"
   ]
  },
  {
   "cell_type": "markdown",
   "metadata": {},
   "source": [
    "# Step 3: Train-Test Split\n",
    "Split the dataset into training and testing sets."
   ]
  },
  {
   "cell_type": "code",
   "execution_count": 25,
   "metadata": {
    "execution": {
     "iopub.execute_input": "2024-09-02T12:32:20.797905Z",
     "iopub.status.busy": "2024-09-02T12:32:20.796957Z",
     "iopub.status.idle": "2024-09-02T12:32:20.825894Z",
     "shell.execute_reply": "2024-09-02T12:32:20.824970Z",
     "shell.execute_reply.started": "2024-09-02T12:32:20.797861Z"
    },
    "trusted": true
   },
   "outputs": [],
   "source": [
    "train, test = df_transformed.randomSplit([0.8, 0.2], seed=42)\n"
   ]
  },
  {
   "cell_type": "markdown",
   "metadata": {},
   "source": [
    "# Step 4: Model Training"
   ]
  },
  {
   "cell_type": "markdown",
   "metadata": {},
   "source": [
    "1. Linear Regression"
   ]
  },
  {
   "cell_type": "code",
   "execution_count": 26,
   "metadata": {
    "execution": {
     "iopub.execute_input": "2024-09-02T12:32:51.429329Z",
     "iopub.status.busy": "2024-09-02T12:32:51.428460Z",
     "iopub.status.idle": "2024-09-02T12:33:23.688837Z",
     "shell.execute_reply": "2024-09-02T12:33:23.687490Z",
     "shell.execute_reply.started": "2024-09-02T12:32:51.429283Z"
    },
    "trusted": true
   },
   "outputs": [
    {
     "name": "stderr",
     "output_type": "stream",
     "text": [
      "24/09/02 12:32:52 WARN Instrumentation: [b5c3e2e2] regParam is zero, which might cause numerical instability and overfitting.\n",
      "24/09/02 12:33:04 WARN InstanceBuilder: Failed to load implementation from:dev.ludovic.netlib.blas.JNIBLAS\n",
      "24/09/02 12:33:06 WARN InstanceBuilder: Failed to load implementation from:dev.ludovic.netlib.lapack.JNILAPACK\n",
      "[Stage 92:>                                                         (0 + 1) / 1]\r"
     ]
    },
    {
     "name": "stdout",
     "output_type": "stream",
     "text": [
      "+-----+-----------------+\n",
      "|Yards|       prediction|\n",
      "+-----+-----------------+\n",
      "|    8|4.619808175722514|\n",
      "|    8|4.622063139723074|\n",
      "|    8|4.633699878885147|\n",
      "|    8|4.700910508014448|\n",
      "|    8|4.638144862484098|\n",
      "+-----+-----------------+\n",
      "only showing top 5 rows\n",
      "\n"
     ]
    },
    {
     "name": "stderr",
     "output_type": "stream",
     "text": [
      "                                                                                \r"
     ]
    }
   ],
   "source": [
    "from pyspark.ml.regression import LinearRegression\n",
    "\n",
    "# Initialize the Linear Regression model\n",
    "lr = LinearRegression(featuresCol=\"scaledFeatures\", labelCol=\"Yards\")\n",
    "\n",
    "# Train the model on the training data\n",
    "lr_model = lr.fit(train)\n",
    "\n",
    "# Make predictions on the test data\n",
    "lr_predictions = lr_model.transform(test)\n",
    "\n",
    "# Show some predictions\n",
    "lr_predictions.select(\"Yards\", \"prediction\").show(5)\n"
   ]
  },
  {
   "cell_type": "markdown",
   "metadata": {},
   "source": [
    "2. Random Forest Regressor"
   ]
  },
  {
   "cell_type": "code",
   "execution_count": 27,
   "metadata": {
    "execution": {
     "iopub.execute_input": "2024-09-02T12:33:23.691678Z",
     "iopub.status.busy": "2024-09-02T12:33:23.691220Z",
     "iopub.status.idle": "2024-09-02T12:34:03.115274Z",
     "shell.execute_reply": "2024-09-02T12:34:03.113847Z",
     "shell.execute_reply.started": "2024-09-02T12:33:23.691618Z"
    },
    "trusted": true
   },
   "outputs": [
    {
     "name": "stderr",
     "output_type": "stream",
     "text": [
      "WARNING: An illegal reflective access operation has occurred                    \n",
      "WARNING: Illegal reflective access by org.apache.spark.util.SizeEstimator$ (file:/opt/conda/lib/python3.10/site-packages/pyspark/jars/spark-core_2.12-3.5.2.jar) to field java.nio.charset.Charset.name\n",
      "WARNING: Please consider reporting this to the maintainers of org.apache.spark.util.SizeEstimator$\n",
      "WARNING: Use --illegal-access=warn to enable warnings of further illegal reflective access operations\n",
      "WARNING: All illegal access operations will be denied in a future release\n",
      "[Stage 107:>                                                        (0 + 1) / 1]\r"
     ]
    },
    {
     "name": "stdout",
     "output_type": "stream",
     "text": [
      "+-----+----------------+\n",
      "|Yards|      prediction|\n",
      "+-----+----------------+\n",
      "|    8|4.47684741789744|\n",
      "|    8|4.47684741789744|\n",
      "|    8|4.47684741789744|\n",
      "|    8|4.47684741789744|\n",
      "|    8|4.47684741789744|\n",
      "+-----+----------------+\n",
      "only showing top 5 rows\n",
      "\n"
     ]
    },
    {
     "name": "stderr",
     "output_type": "stream",
     "text": [
      "                                                                                \r"
     ]
    }
   ],
   "source": [
    "from pyspark.ml.regression import RandomForestRegressor\n",
    "\n",
    "# Initialize the Random Forest model\n",
    "rf = RandomForestRegressor(featuresCol=\"scaledFeatures\", labelCol=\"Yards\")\n",
    "\n",
    "# Train the model\n",
    "rf_model = rf.fit(train)\n",
    "\n",
    "# Make predictions\n",
    "rf_predictions = rf_model.transform(test)\n",
    "\n",
    "# Show some predictions\n",
    "rf_predictions.select(\"Yards\", \"prediction\").show(5)\n"
   ]
  },
  {
   "cell_type": "markdown",
   "metadata": {},
   "source": [
    "3. Gradient-Boosted Trees Regressor"
   ]
  },
  {
   "cell_type": "code",
   "execution_count": 28,
   "metadata": {
    "execution": {
     "iopub.execute_input": "2024-09-02T12:34:03.117410Z",
     "iopub.status.busy": "2024-09-02T12:34:03.116925Z",
     "iopub.status.idle": "2024-09-02T12:34:49.302956Z",
     "shell.execute_reply": "2024-09-02T12:34:49.301922Z",
     "shell.execute_reply.started": "2024-09-02T12:34:03.117359Z"
    },
    "trusted": true
   },
   "outputs": [
    {
     "name": "stderr",
     "output_type": "stream",
     "text": [
      "[Stage 212:>                                                        (0 + 1) / 1]\r"
     ]
    },
    {
     "name": "stdout",
     "output_type": "stream",
     "text": [
      "+-----+-----------------+\n",
      "|Yards|       prediction|\n",
      "+-----+-----------------+\n",
      "|    8|4.997109344708163|\n",
      "|    8|4.997109344708163|\n",
      "|    8|4.997109344708163|\n",
      "|    8|4.997109344708163|\n",
      "|    8|5.029150798482295|\n",
      "+-----+-----------------+\n",
      "only showing top 5 rows\n",
      "\n"
     ]
    },
    {
     "name": "stderr",
     "output_type": "stream",
     "text": [
      "                                                                                \r"
     ]
    }
   ],
   "source": [
    "from pyspark.ml.regression import GBTRegressor\n",
    "\n",
    "# Initialize the Gradient-Boosted Trees model\n",
    "gbt = GBTRegressor(featuresCol=\"scaledFeatures\", labelCol=\"Yards\", maxIter=10)\n",
    "\n",
    "# Train the model\n",
    "gbt_model = gbt.fit(train)\n",
    "\n",
    "# Make predictions\n",
    "gbt_predictions = gbt_model.transform(test)\n",
    "\n",
    "# Show some predictions\n",
    "gbt_predictions.select(\"Yards\", \"prediction\").show(5)\n"
   ]
  },
  {
   "cell_type": "markdown",
   "metadata": {},
   "source": [
    "# Step 5: Model Evaluation\n",
    "Evaluate the models using RMSE (Root Mean Squared Error) and R².\n",
    "\n",
    "1. Linear Regression Evaluation"
   ]
  },
  {
   "cell_type": "code",
   "execution_count": 29,
   "metadata": {
    "execution": {
     "iopub.execute_input": "2024-09-02T12:34:49.305358Z",
     "iopub.status.busy": "2024-09-02T12:34:49.305000Z",
     "iopub.status.idle": "2024-09-02T12:35:11.758871Z",
     "shell.execute_reply": "2024-09-02T12:35:11.757870Z",
     "shell.execute_reply.started": "2024-09-02T12:34:49.305321Z"
    },
    "trusted": true
   },
   "outputs": [
    {
     "name": "stderr",
     "output_type": "stream",
     "text": [
      "[Stage 214:==============>                                          (1 + 3) / 4]\r"
     ]
    },
    {
     "name": "stdout",
     "output_type": "stream",
     "text": [
      "Linear Regression RMSE: 6.400048265599296\n",
      "Linear Regression R²: 0.011785112978940693\n"
     ]
    },
    {
     "name": "stderr",
     "output_type": "stream",
     "text": [
      "                                                                                \r"
     ]
    }
   ],
   "source": [
    "from pyspark.ml.evaluation import RegressionEvaluator\n",
    "\n",
    "# Evaluate the Linear Regression model\n",
    "evaluator = RegressionEvaluator(labelCol=\"Yards\", predictionCol=\"prediction\", metricName=\"rmse\")\n",
    "lr_rmse = evaluator.evaluate(lr_predictions)\n",
    "lr_r2 = evaluator.evaluate(lr_predictions, {evaluator.metricName: \"r2\"})\n",
    "\n",
    "print(f\"Linear Regression RMSE: {lr_rmse}\")\n",
    "print(f\"Linear Regression R²: {lr_r2}\")\n"
   ]
  },
  {
   "cell_type": "markdown",
   "metadata": {},
   "source": [
    "2. Random Forest Evaluation\n"
   ]
  },
  {
   "cell_type": "code",
   "execution_count": 32,
   "metadata": {
    "execution": {
     "iopub.execute_input": "2024-09-02T12:42:06.995218Z",
     "iopub.status.busy": "2024-09-02T12:42:06.994661Z",
     "iopub.status.idle": "2024-09-02T12:42:23.810348Z",
     "shell.execute_reply": "2024-09-02T12:42:23.809372Z",
     "shell.execute_reply.started": "2024-09-02T12:42:06.995168Z"
    },
    "trusted": true
   },
   "outputs": [
    {
     "name": "stderr",
     "output_type": "stream",
     "text": [
      "[Stage 654:>                                                        (0 + 4) / 4]\r"
     ]
    },
    {
     "name": "stdout",
     "output_type": "stream",
     "text": [
      "Random Forest RMSE: 6.386083504364005\n",
      "Random Forest R²: 0.016092933335254522\n"
     ]
    },
    {
     "name": "stderr",
     "output_type": "stream",
     "text": [
      "                                                                                \r"
     ]
    }
   ],
   "source": [
    "# Evaluate the Random Forest model\n",
    "rf_rmse = evaluator.evaluate(rf_predictions)\n",
    "rf_r2 = evaluator.evaluate(rf_predictions, {evaluator.metricName: \"r2\"})\n",
    "\n",
    "print(f\"Random Forest RMSE: {rf_rmse}\")\n",
    "print(f\"Random Forest R²: {rf_r2}\")\n"
   ]
  },
  {
   "cell_type": "markdown",
   "metadata": {},
   "source": [
    "3. Gradient-Boosted Trees Evaluation\n"
   ]
  },
  {
   "cell_type": "code",
   "execution_count": 30,
   "metadata": {
    "execution": {
     "iopub.execute_input": "2024-09-02T12:35:11.760842Z",
     "iopub.status.busy": "2024-09-02T12:35:11.760376Z",
     "iopub.status.idle": "2024-09-02T12:35:34.925066Z",
     "shell.execute_reply": "2024-09-02T12:35:34.923999Z",
     "shell.execute_reply.started": "2024-09-02T12:35:11.760793Z"
    },
    "trusted": true
   },
   "outputs": [
    {
     "name": "stderr",
     "output_type": "stream",
     "text": [
      "[Stage 216:==========================================>              (3 + 1) / 4]\r"
     ]
    },
    {
     "name": "stdout",
     "output_type": "stream",
     "text": [
      "Gradient-Boosted Trees RMSE: 6.360382818598798\n",
      "Gradient-Boosted Trees R²: 0.023996432435513193\n"
     ]
    },
    {
     "name": "stderr",
     "output_type": "stream",
     "text": [
      "                                                                                \r"
     ]
    }
   ],
   "source": [
    "# Evaluate the GBT model\n",
    "gbt_rmse = evaluator.evaluate(gbt_predictions)\n",
    "gbt_r2 = evaluator.evaluate(gbt_predictions, {evaluator.metricName: \"r2\"})\n",
    "\n",
    "print(f\"Gradient-Boosted Trees RMSE: {gbt_rmse}\")\n",
    "print(f\"Gradient-Boosted Trees R²: {gbt_r2}\")\n"
   ]
  },
  {
   "cell_type": "markdown",
   "metadata": {},
   "source": [
    "# Step 6: Hyperparameter Tuning "
   ]
  },
  {
   "cell_type": "code",
   "execution_count": 31,
   "metadata": {
    "execution": {
     "iopub.execute_input": "2024-09-02T12:35:34.926963Z",
     "iopub.status.busy": "2024-09-02T12:35:34.926570Z",
     "iopub.status.idle": "2024-09-02T12:42:06.992068Z",
     "shell.execute_reply": "2024-09-02T12:42:06.990998Z",
     "shell.execute_reply.started": "2024-09-02T12:35:34.926899Z"
    },
    "trusted": true
   },
   "outputs": [
    {
     "name": "stderr",
     "output_type": "stream",
     "text": [
      "24/09/02 12:35:53 WARN MemoryStore: Not enough space to cache rdd_601_1 in memory! (computed 39.9 MiB so far)\n",
      "24/09/02 12:35:53 WARN BlockManager: Persisting block rdd_601_1 to disk instead.\n",
      "24/09/02 12:36:20 WARN DAGScheduler: Broadcasting large task binary with size 1406.1 KiB\n",
      "24/09/02 12:36:38 WARN DAGScheduler: Broadcasting large task binary with size 1533.2 KiB\n",
      "24/09/02 12:36:39 WARN DAGScheduler: Broadcasting large task binary with size 2.5 MiB\n",
      "24/09/02 12:37:25 WARN DAGScheduler: Broadcasting large task binary with size 1416.7 KiB\n",
      "24/09/02 12:37:42 WARN DAGScheduler: Broadcasting large task binary with size 1521.3 KiB\n",
      "24/09/02 12:37:44 WARN DAGScheduler: Broadcasting large task binary with size 2.5 MiB\n",
      "24/09/02 12:38:05 WARN MemoryStore: Not enough space to cache rdd_1017_1 in memory! (computed 39.9 MiB so far)\n",
      "24/09/02 12:38:05 WARN BlockManager: Persisting block rdd_1017_1 to disk instead.\n",
      "24/09/02 12:38:31 WARN DAGScheduler: Broadcasting large task binary with size 1422.5 KiB\n",
      "24/09/02 12:38:48 WARN DAGScheduler: Broadcasting large task binary with size 1554.5 KiB\n",
      "24/09/02 12:38:50 WARN DAGScheduler: Broadcasting large task binary with size 2.6 MiB\n",
      "24/09/02 12:39:37 WARN DAGScheduler: Broadcasting large task binary with size 1386.2 KiB\n",
      "24/09/02 12:39:54 WARN DAGScheduler: Broadcasting large task binary with size 1531.4 KiB\n",
      "24/09/02 12:39:56 WARN DAGScheduler: Broadcasting large task binary with size 2.5 MiB\n",
      "24/09/02 12:40:42 WARN DAGScheduler: Broadcasting large task binary with size 1429.8 KiB\n",
      "24/09/02 12:41:00 WARN DAGScheduler: Broadcasting large task binary with size 1527.4 KiB\n",
      "24/09/02 12:41:02 WARN DAGScheduler: Broadcasting large task binary with size 2.5 MiB\n",
      "24/09/02 12:41:41 WARN DAGScheduler: Broadcasting large task binary with size 1351.9 KiB\n",
      "[Stage 652:============================>                            (2 + 2) / 4]\r"
     ]
    },
    {
     "name": "stdout",
     "output_type": "stream",
     "text": [
      "Cross-Validated Random Forest RMSE: 6.202718264662276\n",
      "Cross-Validated Random Forest R²: 0.07178409784064521\n"
     ]
    },
    {
     "name": "stderr",
     "output_type": "stream",
     "text": [
      "                                                                                \r"
     ]
    }
   ],
   "source": [
    "from pyspark.ml.tuning import ParamGridBuilder, CrossValidator\n",
    "\n",
    "# Define a parameter grid for Random Forest\n",
    "paramGrid = ParamGridBuilder() \\\n",
    "    .addGrid(rf.numTrees, [10, 20]) \\\n",
    "    .addGrid(rf.maxDepth, [5, 10]) \\\n",
    "    .build()\n",
    "\n",
    "# Initialize CrossValidator\n",
    "crossval = CrossValidator(estimator=rf, estimatorParamMaps=paramGrid, evaluator=evaluator, numFolds=5)\n",
    "\n",
    "# Run cross-validation\n",
    "cv_model = crossval.fit(train)\n",
    "\n",
    "# Evaluate the best model\n",
    "cv_predictions = cv_model.transform(test)\n",
    "cv_rmse = evaluator.evaluate(cv_predictions)\n",
    "cv_r2 = evaluator.evaluate(cv_predictions, {evaluator.metricName: \"r2\"})\n",
    "\n",
    "print(f\"Cross-Validated Random Forest RMSE: {cv_rmse}\")\n",
    "print(f\"Cross-Validated Random Forest R²: {cv_r2}\")\n"
   ]
  },
  {
   "cell_type": "markdown",
   "metadata": {},
   "source": [
    "# Step 7: Save The Model"
   ]
  },
  {
   "cell_type": "code",
   "execution_count": 33,
   "metadata": {
    "execution": {
     "iopub.execute_input": "2024-09-02T12:51:07.218653Z",
     "iopub.status.busy": "2024-09-02T12:51:07.217978Z",
     "iopub.status.idle": "2024-09-02T12:51:09.735078Z",
     "shell.execute_reply": "2024-09-02T12:51:09.733900Z",
     "shell.execute_reply.started": "2024-09-02T12:51:07.218601Z"
    },
    "trusted": true
   },
   "outputs": [
    {
     "name": "stderr",
     "output_type": "stream",
     "text": [
      "                                                                                \r"
     ]
    }
   ],
   "source": [
    "# Define the path where you want to save the model\n",
    "model_path = \"best_model/cross_validated_random_forest\"\n",
    "\n",
    "# Save the model\n",
    "cv_model.bestModel.write().overwrite().save(model_path)\n"
   ]
  },
  {
   "cell_type": "markdown",
   "metadata": {},
   "source": [
    "# Step 8: Load Model"
   ]
  },
  {
   "cell_type": "code",
   "execution_count": 34,
   "metadata": {
    "execution": {
     "iopub.execute_input": "2024-09-02T12:51:19.073577Z",
     "iopub.status.busy": "2024-09-02T12:51:19.073128Z",
     "iopub.status.idle": "2024-09-02T12:51:27.109637Z",
     "shell.execute_reply": "2024-09-02T12:51:27.108427Z",
     "shell.execute_reply.started": "2024-09-02T12:51:19.073536Z"
    },
    "trusted": true
   },
   "outputs": [
    {
     "name": "stderr",
     "output_type": "stream",
     "text": [
      "[Stage 670:>                                                        (0 + 1) / 1]\r"
     ]
    },
    {
     "name": "stdout",
     "output_type": "stream",
     "text": [
      "+-----+-----------------+\n",
      "|Yards|       prediction|\n",
      "+-----+-----------------+\n",
      "|    8|4.644957755627412|\n",
      "|    8|4.644957755627412|\n",
      "|    8|4.644957755627412|\n",
      "|    8|4.644957755627412|\n",
      "|    8|4.642116856085264|\n",
      "+-----+-----------------+\n",
      "only showing top 5 rows\n",
      "\n"
     ]
    },
    {
     "name": "stderr",
     "output_type": "stream",
     "text": [
      "                                                                                \r"
     ]
    }
   ],
   "source": [
    "from pyspark.ml.regression import RandomForestRegressionModel\n",
    "\n",
    "# Load the saved model\n",
    "loaded_model = RandomForestRegressionModel.load(model_path)\n",
    "\n",
    "# Use the loaded model to make predictions on new data\n",
    "predictions = loaded_model.transform(test)\n",
    "predictions.select(\"Yards\", \"prediction\").show(5)\n"
   ]
  }
 ],
 "metadata": {
  "kaggle": {
   "accelerator": "none",
   "dataSources": [
    {
     "databundleVersionId": 907058,
     "sourceId": 15696,
     "sourceType": "competition"
    }
   ],
   "dockerImageVersionId": 30761,
   "isGpuEnabled": false,
   "isInternetEnabled": true,
   "language": "python",
   "sourceType": "notebook"
  },
  "kernelspec": {
   "display_name": "Python 3",
   "language": "python",
   "name": "python3"
  },
  "language_info": {
   "codemirror_mode": {
    "name": "ipython",
    "version": 3
   },
   "file_extension": ".py",
   "mimetype": "text/x-python",
   "name": "python",
   "nbconvert_exporter": "python",
   "pygments_lexer": "ipython3",
   "version": "3.10.14"
  }
 },
 "nbformat": 4,
 "nbformat_minor": 4
}
